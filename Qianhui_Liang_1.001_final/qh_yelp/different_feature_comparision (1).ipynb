{
 "cells": [
  {
   "cell_type": "code",
   "execution_count": 1,
   "metadata": {},
   "outputs": [
    {
     "name": "stderr",
     "output_type": "stream",
     "text": [
      "/home/olive/tfvenv/lib/python3.5/site-packages/sklearn/cross_validation.py:41: DeprecationWarning: This module was deprecated in version 0.18 in favor of the model_selection module into which all the refactored classes and functions are moved. Also note that the interface of the new CV iterators are different from that of this module. This module will be removed in 0.20.\n",
      "  \"This module will be removed in 0.20.\", DeprecationWarning)\n"
     ]
    }
   ],
   "source": [
    "import json\n",
    "import numpy as np\n",
    "import struct\n",
    "from tabulate import tabulate\n",
    "import pymongo\n",
    "from pymongo import MongoClient\n",
    "\n",
    "import matplotlib.pyplot as plt\n",
    "%matplotlib inline\n",
    "from nltk.tokenize import word_tokenize\n",
    "\n",
    "import numpy as np\n",
    "import seaborn as sns\n",
    "import pandas as pd\n",
    "from gensim.models.word2vec import Word2Vec\n",
    "from collections import Counter, defaultdict\n",
    "from sklearn.feature_extraction.text import CountVectorizer\n",
    "from sklearn.feature_extraction.text import TfidfVectorizer\n",
    "from sklearn.ensemble import ExtraTreesClassifier\n",
    "from sklearn.naive_bayes import BernoulliNB, MultinomialNB\n",
    "from sklearn.pipeline import Pipeline\n",
    "from sklearn.svm import SVC\n",
    "from sklearn.metrics import accuracy_score\n",
    "from sklearn.cross_validation import cross_val_score\n",
    "from sklearn.cross_validation import StratifiedShuffleSplit"
   ]
  },
  {
   "cell_type": "code",
   "execution_count": 37,
   "metadata": {},
   "outputs": [],
   "source": [
    "#connect to mongodb, start client session\n",
    "client = MongoClient()\n",
    "#connect to specific database\n",
    "db = client.olive\n",
    "#connect to specific collection\n",
    "collection = db.yelp_reviews\n",
    "#finding needs from full collection, data = collection.find({'restaurant_id':'neptune-oyster-boston'}) will find only neptune, etc.\n",
    "data = collection.find({\"restaurant_id\":\"neptune-oyster-boston\"}) #finds all\n",
    "\n",
    "#extract data from cursor\n",
    "itembuffer=[]\n",
    "for item in data:\n",
    "     itembuffer.append(item)\n",
    "\n",
    "#itembuffer has exactly the same structure as set_data, can directly plug in, regardless of find() or find({some criteria})\n",
    "\n"
   ]
  },
  {
   "cell_type": "code",
   "execution_count": 38,
   "metadata": {},
   "outputs": [
    {
     "name": "stdout",
     "output_type": "stream",
     "text": [
      "total examples 3665\n",
      "y ['5.0' '5.0' '5.0' '4.0' '5.0' '4.0' '5.0' '5.0' '5.0' '4.0' '4.0' '4.0'\n",
      " '5.0' '5.0' '5.0' '5.0' '5.0' '4.0' '5.0' '5.0']\n"
     ]
    }
   ],
   "source": [
    "X,y = [],[]\n",
    "#with open(filename,\"r\")as f:\n",
    "set_data = itembuffer\n",
    "for i in set_data:\n",
    "    review = []\n",
    "    for item in word_tokenize(i[\"review_detail\"]):\n",
    "        if item.isalpha(): # no need for stopword, clean not alpha, lower()\n",
    "            review.append(item.lower())\n",
    "    X.append(review)\n",
    "    y.append(i[\"review_rating\"])\n",
    "X, y = np.array(X), np.array(y)\n",
    "print(\"total examples %s\" % len(y))   # training dataset with label\"\n",
    "print(\"y\",y[:20])"
   ]
  },
  {
   "cell_type": "code",
   "execution_count": 39,
   "metadata": {},
   "outputs": [],
   "source": [
    "GLOVE_6B_300D_PATH = \"/home/olive/bbzy/glove.6B/glove.6B.300d.txt\"\n",
    "encoding = \"utf-8\"\n",
    "glove_small = {}\n",
    "#all_words = set()\n",
    "#for item in X:\n",
    "    #for words in item:\n",
    "        #all_words.add(words)\n",
    "#\"set of tokenized word\", only pick words in the train set\n",
    "with open(GLOVE_6B_300D_PATH,\"rb\") as f:\n",
    "    for line in f:\n",
    "        parts = line.split()\n",
    "        word = parts[0].decode(encoding)\n",
    "        nums=np.array(parts[1:], dtype=np.float32)\n",
    "        glove_small[word] = nums "
   ]
  },
  {
   "cell_type": "code",
   "execution_count": 40,
   "metadata": {},
   "outputs": [],
   "source": [
    "class MeanEmbeddingVectorizer(object):\n",
    "    '''\n",
    "     a word -> vector mapping and vectorizes texts by taking \n",
    "     the mean of all the vectors corresponding to individual \n",
    "     words\n",
    "    '''\n",
    "    def __init__(self, word2vec):\n",
    "        self.word2vec = word2vec\n",
    "        if len(word2vec)>0:\n",
    "            self.dim=len(word2vec[next(iter(glove_small))])\n",
    "        else:\n",
    "            self.dim=0\n",
    "            \n",
    "    def fit(self, X, y):\n",
    "        return self \n",
    "\n",
    "    def transform(self, X):\n",
    "        return np.array([\n",
    "            np.mean([self.word2vec[w] for w in words if w in self.word2vec] \n",
    "                    or [np.zeros(self.dim)], axis=0)\n",
    "            for words in X])\n",
    "\n",
    "    \n",
    "# and a tf-idf version of the same\n",
    "class TfidfEmbeddingVectorizer(object):\n",
    "    def __init__(self, word2vec):\n",
    "        self.word2vec = word2vec\n",
    "        self.word2weight = None\n",
    "        if len(word2vec)>0:\n",
    "            self.dim=len(word2vec[next(iter(glove_small))])\n",
    "        else:\n",
    "            self.dim=0\n",
    "        \n",
    "    def fit(self, X, y):\n",
    "        tfidf = TfidfVectorizer(analyzer=lambda x: x)\n",
    "        tfidf.fit(X)\n",
    "        # if a word was never seen - it must be at least as infrequent\n",
    "        # as any of the known words - so the default idf is the max of \n",
    "        # known idf's\n",
    "        max_idf = max(tfidf.idf_)\n",
    "        self.word2weight = defaultdict(\n",
    "            lambda: max_idf, \n",
    "            [(w, tfidf.idf_[i]) for w, i in tfidf.vocabulary_.items()])\n",
    "    \n",
    "        return self\n",
    "    \n",
    "    def transform(self, X):\n",
    "        return np.array([\n",
    "                np.mean([self.word2vec[w] * self.word2weight[w]\n",
    "                         for w in words if w in self.word2vec] or\n",
    "                        [np.zeros(self.dim)], axis=0)\n",
    "                for words in X])       "
   ]
  },
  {
   "cell_type": "code",
   "execution_count": 41,
   "metadata": {},
   "outputs": [
    {
     "name": "stdout",
     "output_type": "stream",
     "text": [
      "model done <class 'sklearn.pipeline.Pipeline'> <class 'sklearn.pipeline.Pipeline'> <class 'sklearn.pipeline.Pipeline'> <class 'sklearn.pipeline.Pipeline'>\n"
     ]
    }
   ],
   "source": [
    "etree_w2v = Pipeline([(\"glove vectorizer\", MeanEmbeddingVectorizer(glove_small)), \n",
    "                        (\"extra trees\", ExtraTreesClassifier(n_estimators=200))])        \n",
    "etree_w2v_tfidf = Pipeline([(\"glove vectorizer\", TfidfEmbeddingVectorizer(glove_small)), \n",
    "                        (\"extra trees\", ExtraTreesClassifier(n_estimators=200))])  \n",
    "mult_nb = Pipeline([(\"count_vectorizer\", CountVectorizer(analyzer=lambda x: x)), (\"multinomial nb\", MultinomialNB())])\n",
    "mult_nb_tfidf = Pipeline([(\"tfidf_vectorizer\", TfidfVectorizer(analyzer=lambda x: x)), (\"multinomial nb\", MultinomialNB())])\n",
    "\n",
    "all_models = [(\"w2v\", etree_w2v),(\"w2v_tfidf\", etree_w2v_tfidf),(\"mult_nb\", mult_nb), (\"mult_nb_tfidf\", mult_nb_tfidf)]  \n",
    "\n",
    "print(\"model done\", type(etree_w2v),type(etree_w2v_tfidf),type(mult_nb),type(mult_nb_tfidf))    "
   ]
  },
  {
   "cell_type": "code",
   "execution_count": 42,
   "metadata": {},
   "outputs": [
    {
     "name": "stdout",
     "output_type": "stream",
     "text": [
      "n_trainsize down\n",
      "n_trainsize down\n",
      "n_trainsize down\n",
      "n_trainsize down\n",
      "n_trainsize down\n",
      "n_trainsize down\n",
      "n_trainsize down\n",
      "n_trainsize down\n",
      "n_trainsize down\n",
      "n_trainsize down\n",
      "n_trainsize down\n",
      "n_trainsize down\n",
      "n_trainsize down\n",
      "n_trainsize down\n",
      "n_trainsize down\n",
      "n_trainsize down\n"
     ]
    }
   ],
   "source": [
    "\n",
    "def benchmark(model, X, y,n):\n",
    "    test_size = int(n*0.2)\n",
    "    train_size = int(n*0.8-1)\n",
    "    scores = []\n",
    "    for train, test in StratifiedShuffleSplit(y, n_iter=5, test_size=test_size,train_size = train_size):\n",
    "        X_train, X_test = X[train], X[test]\n",
    "        y_train, y_test = y[train], y[test]\n",
    "        scores.append(accuracy_score(model.fit(X_train, y_train).predict(X_test), y_test))\n",
    "    return np.mean(scores)\n",
    "train_sizes  = [100,500,1000,3665]#,1000,5000,10000,50000,510154\n",
    "table = []\n",
    "for name, model in all_models:\n",
    "    for n in train_sizes:\n",
    "    \n",
    "        table.append({'model': name, \n",
    "                      'accuracy': benchmark(model, X, y,n),\n",
    "                      \"train_size\":n})\n",
    "        print(\"n_trainsize down\")\n",
    "df = pd.DataFrame(table)"
   ]
  },
  {
   "cell_type": "code",
   "execution_count": 43,
   "metadata": {},
   "outputs": [
    {
     "data": {
      "text/html": [
       "<div>\n",
       "<style scoped>\n",
       "    .dataframe tbody tr th:only-of-type {\n",
       "        vertical-align: middle;\n",
       "    }\n",
       "\n",
       "    .dataframe tbody tr th {\n",
       "        vertical-align: top;\n",
       "    }\n",
       "\n",
       "    .dataframe thead th {\n",
       "        text-align: right;\n",
       "    }\n",
       "</style>\n",
       "<table border=\"1\" class=\"dataframe\">\n",
       "  <thead>\n",
       "    <tr style=\"text-align: right;\">\n",
       "      <th></th>\n",
       "      <th>accuracy</th>\n",
       "      <th>model</th>\n",
       "      <th>train_size</th>\n",
       "    </tr>\n",
       "  </thead>\n",
       "  <tbody>\n",
       "    <tr>\n",
       "      <th>0</th>\n",
       "      <td>0.590000</td>\n",
       "      <td>w2v</td>\n",
       "      <td>100</td>\n",
       "    </tr>\n",
       "    <tr>\n",
       "      <th>1</th>\n",
       "      <td>0.598000</td>\n",
       "      <td>w2v</td>\n",
       "      <td>500</td>\n",
       "    </tr>\n",
       "    <tr>\n",
       "      <th>2</th>\n",
       "      <td>0.605000</td>\n",
       "      <td>w2v</td>\n",
       "      <td>1000</td>\n",
       "    </tr>\n",
       "    <tr>\n",
       "      <th>3</th>\n",
       "      <td>0.607367</td>\n",
       "      <td>w2v</td>\n",
       "      <td>3665</td>\n",
       "    </tr>\n",
       "    <tr>\n",
       "      <th>4</th>\n",
       "      <td>0.660000</td>\n",
       "      <td>w2v_tfidf</td>\n",
       "      <td>100</td>\n",
       "    </tr>\n",
       "    <tr>\n",
       "      <th>5</th>\n",
       "      <td>0.602000</td>\n",
       "      <td>w2v_tfidf</td>\n",
       "      <td>500</td>\n",
       "    </tr>\n",
       "    <tr>\n",
       "      <th>6</th>\n",
       "      <td>0.605000</td>\n",
       "      <td>w2v_tfidf</td>\n",
       "      <td>1000</td>\n",
       "    </tr>\n",
       "    <tr>\n",
       "      <th>7</th>\n",
       "      <td>0.603820</td>\n",
       "      <td>w2v_tfidf</td>\n",
       "      <td>3665</td>\n",
       "    </tr>\n",
       "    <tr>\n",
       "      <th>8</th>\n",
       "      <td>0.610000</td>\n",
       "      <td>mult_nb</td>\n",
       "      <td>100</td>\n",
       "    </tr>\n",
       "    <tr>\n",
       "      <th>9</th>\n",
       "      <td>0.600000</td>\n",
       "      <td>mult_nb</td>\n",
       "      <td>500</td>\n",
       "    </tr>\n",
       "    <tr>\n",
       "      <th>10</th>\n",
       "      <td>0.598000</td>\n",
       "      <td>mult_nb</td>\n",
       "      <td>1000</td>\n",
       "    </tr>\n",
       "    <tr>\n",
       "      <th>11</th>\n",
       "      <td>0.632742</td>\n",
       "      <td>mult_nb</td>\n",
       "      <td>3665</td>\n",
       "    </tr>\n",
       "    <tr>\n",
       "      <th>12</th>\n",
       "      <td>0.600000</td>\n",
       "      <td>mult_nb_tfidf</td>\n",
       "      <td>100</td>\n",
       "    </tr>\n",
       "    <tr>\n",
       "      <th>13</th>\n",
       "      <td>0.600000</td>\n",
       "      <td>mult_nb_tfidf</td>\n",
       "      <td>500</td>\n",
       "    </tr>\n",
       "    <tr>\n",
       "      <th>14</th>\n",
       "      <td>0.600000</td>\n",
       "      <td>mult_nb_tfidf</td>\n",
       "      <td>1000</td>\n",
       "    </tr>\n",
       "    <tr>\n",
       "      <th>15</th>\n",
       "      <td>0.600546</td>\n",
       "      <td>mult_nb_tfidf</td>\n",
       "      <td>3665</td>\n",
       "    </tr>\n",
       "  </tbody>\n",
       "</table>\n",
       "</div>"
      ],
      "text/plain": [
       "    accuracy          model  train_size\n",
       "0   0.590000            w2v         100\n",
       "1   0.598000            w2v         500\n",
       "2   0.605000            w2v        1000\n",
       "3   0.607367            w2v        3665\n",
       "4   0.660000      w2v_tfidf         100\n",
       "5   0.602000      w2v_tfidf         500\n",
       "6   0.605000      w2v_tfidf        1000\n",
       "7   0.603820      w2v_tfidf        3665\n",
       "8   0.610000        mult_nb         100\n",
       "9   0.600000        mult_nb         500\n",
       "10  0.598000        mult_nb        1000\n",
       "11  0.632742        mult_nb        3665\n",
       "12  0.600000  mult_nb_tfidf         100\n",
       "13  0.600000  mult_nb_tfidf         500\n",
       "14  0.600000  mult_nb_tfidf        1000\n",
       "15  0.600546  mult_nb_tfidf        3665"
      ]
     },
     "execution_count": 43,
     "metadata": {},
     "output_type": "execute_result"
    }
   ],
   "source": [
    "df"
   ]
  },
  {
   "cell_type": "code",
   "execution_count": 19,
   "metadata": {
    "collapsed": true
   },
   "outputs": [],
   "source": [
    "#table2={}\n",
    "#tabledata2=[]\n",
    "#for item in table:\n",
    "#    tabledata2.append({\"model\":item['model'],\"accuracy\":item['accuracy'],\"train_size\":n})\n",
    "#df2 = pd.DataFrame(tabledata2)"
   ]
  },
  {
   "cell_type": "code",
   "execution_count": 44,
   "metadata": {},
   "outputs": [
    {
     "data": {
      "text/plain": [
       "[Text(0,0.5,'accuracy')]"
      ]
     },
     "execution_count": 44,
     "metadata": {},
     "output_type": "execute_result"
    },
    {
     "data": {
      "image/png": "[encoded data removed]",
      "text/plain": [
       "<matplotlib.figure.Figure at 0x7fc6fc78da90>"
      ]
     },
     "metadata": {},
     "output_type": "display_data"
    }
   ],
   "source": [
    "plt.figure(figsize=(15, 6))\n",
    "fig = sns.pointplot(x='train_size', y='accuracy', hue='model', \n",
    "                    data=df[df.model.map(lambda x: x in [\"w2v\", \"w2v_tfidf\", \"mult_nb\", \n",
    "                                                         \"mult_nb_tfidf\"\n",
    "                                                        ])])\n",
    "sns.set_context(\"notebook\", font_scale=1.5)\n",
    "fig.set(ylabel=\"accuracy\")\n",
    "fig.set(xlabel=\"labeled training examples\")\n",
    "fig.set(title=\"Comparision\")\n",
    "fig.set(ylabel=\"accuracy\")"
   ]
  },
  {
   "cell_type": "code",
   "execution_count": 47,
   "metadata": {},
   "outputs": [],
   "source": [
    "df.to_json(path_or_buf = \"/home/olive/qh_yelp/comparision_neptune.json\",orient = \"index\")\n"
   ]
  },
  {
   "cell_type": "code",
   "execution_count": null,
   "metadata": {
    "collapsed": true
   },
   "outputs": [],
   "source": []
  }
 ],
 "metadata": {
  "kernelspec": {
   "display_name": "Python 3",
   "language": "python",
   "name": "python3"
  },
  "language_info": {
   "codemirror_mode": {
    "name": "ipython",
    "version": 3
   },
   "file_extension": ".py",
   "mimetype": "text/x-python",
   "name": "python",
   "nbconvert_exporter": "python",
   "pygments_lexer": "ipython3",
   "version": "3.5.2"
  }
 },
 "nbformat": 4,
 "nbformat_minor": 2
}
